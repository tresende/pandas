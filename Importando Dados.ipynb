{
    "nbformat_minor": 1, 
    "cells": [
        {
            "execution_count": 11, 
            "cell_type": "code", 
            "metadata": {}, 
            "outputs": [], 
            "source": "import pandas as pd"
        }, 
        {
            "execution_count": 14, 
            "cell_type": "code", 
            "metadata": {}, 
            "outputs": [], 
            "source": "import sys\nimport types\nfrom botocore.client import Config\nimport ibm_boto3\n\ndef __iter__(self): return 0\nBucket='YYYYYY'\nclient_25ff73ff85dd4c9c8a779e8c65e23f63 = ibm_boto3.client(service_name='s3',\n    ibm_api_key_id='XXXXX',\n    ibm_auth_endpoint=\"https://iam.bluemix.net/oidc/token\",\n    config=Config(signature_version='oauth'),\n    endpoint_url='https://s3.eu-geo.objectstorage.service.networklayer.com')\n"
        }, 
        {
            "execution_count": 15, 
            "cell_type": "code", 
            "metadata": {}, 
            "outputs": [], 
            "source": "\nbody = client_25ff73ff85dd4c9c8a779e8c65e23f63.get_object(Bucket=Bucket,Key='extras_aluguel.json')['Body']\nif not hasattr(body, \"__iter__\"): body.__iter__ = types.MethodType( __iter__, body )\ndf_json = pd.read_json(body)"
        }, 
        {
            "execution_count": 16, 
            "cell_type": "code", 
            "metadata": {
                "scrolled": true
            }, 
            "outputs": [], 
            "source": "body = client_25ff73ff85dd4c9c8a779e8c65e23f63.get_object(Bucket=Bucket,Key='extras_aluguel.txt')['Body']\nif not hasattr(body, \"__iter__\"): body.__iter__ = types.MethodType( __iter__, body )\ndf_txt = pd.read_table(body)\n"
        }, 
        {
            "execution_count": 17, 
            "cell_type": "code", 
            "metadata": {}, 
            "outputs": [], 
            "source": "body = client_25ff73ff85dd4c9c8a779e8c65e23f63.get_object(Bucket=Bucket,Key='extras_aluguel.xlsx')['Body']\nif not hasattr(body, \"__iter__\"): body.__iter__ = types.MethodType( __iter__, body )\ndf_xlsx = pd.read_excel(body)\n"
        }, 
        {
            "execution_count": 18, 
            "cell_type": "code", 
            "metadata": {}, 
            "outputs": [], 
            "source": "streaming_body_1 = client_25ff73ff85dd4c9c8a779e8c65e23f63.get_object(Bucket=Bucket, Key='extras_dados_html_1.html')['Body']\nif not hasattr(streaming_body_1, \"__iter__\"): streaming_body_1.__iter__ = types.MethodType( __iter__, streaming_body_1 ) \ndf_html = pd.read_html(streaming_body_1.read())\n"
        }, 
        {
            "execution_count": null, 
            "cell_type": "code", 
            "metadata": {}, 
            "outputs": [], 
            "source": ""
        }
    ], 
    "metadata": {
        "kernelspec": {
            "display_name": "Python 3.5", 
            "name": "python3", 
            "language": "python"
        }, 
        "language_info": {
            "mimetype": "text/x-python", 
            "nbconvert_exporter": "python", 
            "version": "3.5.5", 
            "name": "python", 
            "file_extension": ".py", 
            "pygments_lexer": "ipython3", 
            "codemirror_mode": {
                "version": 3, 
                "name": "ipython"
            }
        }
    }, 
    "nbformat": 4
}