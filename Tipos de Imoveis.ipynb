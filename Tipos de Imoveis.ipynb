{
    "nbformat_minor": 1, 
    "cells": [
        {
            "source": "# Relat\u00f3rio de An\u00e1lise", 
            "cell_type": "markdown", 
            "metadata": {
                "collapsed": true
            }
        }, 
        {
            "source": "## Tipos de Im\u00f3veis", 
            "cell_type": "markdown", 
            "metadata": {}
        }, 
        {
            "execution_count": 10, 
            "cell_type": "code", 
            "metadata": {}, 
            "outputs": [], 
            "source": "import pandas as pd"
        }, 
        {
            "execution_count": 15, 
            "cell_type": "code", 
            "metadata": {}, 
            "outputs": [], 
            "source": "from botocore.client import Config\nimport ibm_boto3\nimport types\n\ndef __iter__(self): return 0\n\nbucket = 'xxxxxx'\napi_key = 'yyyyyy'\n\nclient = ibm_boto3.client(service_name='s3',\n    ibm_api_key_id=api_key,\n    ibm_auth_endpoint=\"https://iam.bluemix.net/oidc/token\",\n    config=Config(signature_version='oauth'),\n    endpoint_url='https://s3.eu-geo.objectstorage.service.networklayer.com')"
        }, 
        {
            "execution_count": 16, 
            "cell_type": "code", 
            "metadata": {}, 
            "outputs": [], 
            "source": "body =  client.get_object(Bucket=bucket,Key='aluguel.csv')['Body']\nif not hasattr(body, \"__iter__\"): body.__iter__ = types.MethodType( __iter__, body )\ndados = pd.read_csv(body, delimiter=';')"
        }, 
        {
            "execution_count": 17, 
            "cell_type": "code", 
            "metadata": {}, 
            "outputs": [], 
            "source": "tipo_de_imovel = dados['Tipo']"
        }, 
        {
            "execution_count": 21, 
            "cell_type": "code", 
            "metadata": {}, 
            "outputs": [], 
            "source": "tipo_de_imovel.drop_duplicates(inplace=True)"
        }, 
        {
            "source": "## Organizando Visualiza\u00e7\u00f5es", 
            "cell_type": "markdown", 
            "metadata": {}
        }, 
        {
            "execution_count": 33, 
            "cell_type": "code", 
            "metadata": {}, 
            "outputs": [], 
            "source": "tipo_de_imovel = pd.DataFrame(tipo_de_imovel)\ntipo_de_imovel.index =  range(len(tipo_de_imovel))\ntipo_de_imovel.columns.name= 'Id'"
        }, 
        {
            "execution_count": 34, 
            "cell_type": "code", 
            "metadata": {}, 
            "outputs": [
                {
                    "execution_count": 34, 
                    "metadata": {}, 
                    "data": {
                        "text/html": "<div>\n<style scoped>\n    .dataframe tbody tr th:only-of-type {\n        vertical-align: middle;\n    }\n\n    .dataframe tbody tr th {\n        vertical-align: top;\n    }\n\n    .dataframe thead th {\n        text-align: right;\n    }\n</style>\n<table border=\"1\" class=\"dataframe\">\n  <thead>\n    <tr style=\"text-align: right;\">\n      <th>Id</th>\n      <th>Tipo</th>\n    </tr>\n  </thead>\n  <tbody>\n    <tr>\n      <th>0</th>\n      <td>Quitinete</td>\n    </tr>\n    <tr>\n      <th>1</th>\n      <td>Casa</td>\n    </tr>\n    <tr>\n      <th>2</th>\n      <td>Conjunto Comercial/Sala</td>\n    </tr>\n    <tr>\n      <th>3</th>\n      <td>Apartamento</td>\n    </tr>\n    <tr>\n      <th>4</th>\n      <td>Casa de Condom\u00ednio</td>\n    </tr>\n    <tr>\n      <th>5</th>\n      <td>Pr\u00e9dio Inteiro</td>\n    </tr>\n    <tr>\n      <th>6</th>\n      <td>Flat</td>\n    </tr>\n    <tr>\n      <th>7</th>\n      <td>Loja/Sal\u00e3o</td>\n    </tr>\n    <tr>\n      <th>8</th>\n      <td>Galp\u00e3o/Dep\u00f3sito/Armaz\u00e9m</td>\n    </tr>\n    <tr>\n      <th>9</th>\n      <td>Casa Comercial</td>\n    </tr>\n    <tr>\n      <th>10</th>\n      <td>Casa de Vila</td>\n    </tr>\n    <tr>\n      <th>11</th>\n      <td>Terreno Padr\u00e3o</td>\n    </tr>\n    <tr>\n      <th>12</th>\n      <td>Box/Garagem</td>\n    </tr>\n    <tr>\n      <th>13</th>\n      <td>Loft</td>\n    </tr>\n    <tr>\n      <th>14</th>\n      <td>Loja Shopping/ Ct Comercial</td>\n    </tr>\n    <tr>\n      <th>15</th>\n      <td>Ch\u00e1cara</td>\n    </tr>\n    <tr>\n      <th>16</th>\n      <td>Loteamento/Condom\u00ednio</td>\n    </tr>\n    <tr>\n      <th>17</th>\n      <td>S\u00edtio</td>\n    </tr>\n    <tr>\n      <th>18</th>\n      <td>Pousada/Chal\u00e9</td>\n    </tr>\n    <tr>\n      <th>19</th>\n      <td>Studio</td>\n    </tr>\n    <tr>\n      <th>20</th>\n      <td>Hotel</td>\n    </tr>\n    <tr>\n      <th>21</th>\n      <td>Ind\u00fastria</td>\n    </tr>\n  </tbody>\n</table>\n</div>", 
                        "text/plain": "Id                         Tipo\n0                     Quitinete\n1                          Casa\n2       Conjunto Comercial/Sala\n3                   Apartamento\n4            Casa de Condom\u00ednio\n5                Pr\u00e9dio Inteiro\n6                          Flat\n7                    Loja/Sal\u00e3o\n8       Galp\u00e3o/Dep\u00f3sito/Armaz\u00e9m\n9                Casa Comercial\n10                 Casa de Vila\n11               Terreno Padr\u00e3o\n12                  Box/Garagem\n13                         Loft\n14  Loja Shopping/ Ct Comercial\n15                      Ch\u00e1cara\n16        Loteamento/Condom\u00ednio\n17                        S\u00edtio\n18                Pousada/Chal\u00e9\n19                       Studio\n20                        Hotel\n21                    Ind\u00fastria"
                    }, 
                    "output_type": "execute_result"
                }
            ], 
            "source": "tipo_de_imovel"
        }
    ], 
    "metadata": {
        "kernelspec": {
            "display_name": "Python 3.5", 
            "name": "python3", 
            "language": "python"
        }, 
        "language_info": {
            "mimetype": "text/x-python", 
            "nbconvert_exporter": "python", 
            "version": "3.5.5", 
            "name": "python", 
            "file_extension": ".py", 
            "pygments_lexer": "ipython3", 
            "codemirror_mode": {
                "version": 3, 
                "name": "ipython"
            }
        }
    }, 
    "nbformat": 4
}